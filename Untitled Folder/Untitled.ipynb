{
 "cells": [
  {
   "cell_type": "code",
   "execution_count": 5,
   "metadata": {
    "collapsed": false
   },
   "outputs": [],
   "source": [
    "import requests\n",
    "import json\n",
    "r1 = requests.get('https://api.stackexchange.com/2.2/questions?order=desc&sort=activity&tagged=pandas&site=stackoverflow')\n",
    "r1.json()\n",
    "with open('question_pandas.json','w') as q1:\n",
    "    json.dump(r.json(),q1)"
   ]
  },
  {
   "cell_type": "code",
   "execution_count": 6,
   "metadata": {
    "collapsed": true
   },
   "outputs": [],
   "source": [
    "import requests\n",
    "import json\n",
    "r2 = requests.get('https://api.stackexchange.com/2.2/questions?order=desc&sort=activity&tagged=pandas&site=stackoverflow')\n",
    "r2.json()\n",
    "with open('user.json','w') as q2:\n",
    "    json.dump(r2.json(),q2)"
   ]
  },
  {
   "cell_type": "code",
   "execution_count": 7,
   "metadata": {
    "collapsed": true
   },
   "outputs": [],
   "source": [
    "import requests\n",
    "import json\n",
    "r3 = requests.get('https://api.stackexchange.com/2.2/questions?order=desc&sort=activity&tagged=python&site=stackoverflow')\n",
    "r3.json()\n",
    "with open('question_python.json','w') as q3:\n",
    "    json.dump(r3.json(),q3)"
   ]
  },
  {
   "cell_type": "code",
   "execution_count": 33,
   "metadata": {
    "collapsed": false,
    "scrolled": false
   },
   "outputs": [
    {
     "name": "stdout",
     "output_type": "stream",
     "text": [
      "[3944404, 1951176, 5993616, 1754927, 4814204, 3200709, 7098923, 3190076, 3191569, 7098737, 4794891, 6287695, 5928573, 3653831, 6764079, 1150428, 7004928, 2029648, 6468053, 5427525, 5596746, 1906088, 7098896, 2396502, 6784133, 3633250, 7098461, 1679073, 4061181, 1591487]\n",
      "['Hidden category', 'numpy: how to get a max from an argmax result', 'Triangulation of 2D point cloud using MeshPy', 'python why class cost so mush memory', 'Python Flask time out? FLASK + NGINX + uWSGI', 'python real time plot of serial port data has huge lag', 'NameError in python 3', 'Pandas df.iterrow() parallelization', 'nltk custom grammar for chunking dates using RegexpParser', 'Standard procedure for geometric transformations', 'Python: Unescape and sanitize Feedparser data', 'Nested for loop python', 'python scrapy css selector name extract not working', 'Extra line in the terminal introduced by Popen', 'Column value calculated from a method', 'Understanding memory allocation for large integers in Python', 'Example of RESTful API in Flask Python', 'Can&#39;t crawl more than a few items per page', '&#39;GridSearchCV&#39; object has no attribute &#39;tree_&#39; error using graphviz', 'Sum of column if not a square matirx in numpy?', 'ERROR - Message: Can&#39;t load the profile. Profile Dir... Selenium Web Scraping with Firefox', 'Change list of function&#39;s arguments', 'Cumulative sum in python giving different results when summing with a for loop', 'Configure error while installing graph-tool on ubuntu 14.04', 'How to update the value of DatetimeIndex of a single row in a pandas DataFrame?', 'Caffe install on ubuntu for anaconda with python 2.7 fails with libpng16.so.16 not found', 'Scrapping advertisements from a web page using python', 'Count vowels from raw input', 'Defining custom delimiter for Django GROUP_CONCAT simulator', 'python matplotlib MKL fatal error on ubuntu 12.04']\n"
     ]
    }
   ],
   "source": [
    "questions = []\n",
    "user_id = []\n",
    "with open('question_python.json') as a1:\n",
    "    data = json.load(a1)\n",
    "for i in data['items']:\n",
    "    j = i['owner']\n",
    "    m = j['user_id']\n",
    "    n = i ['title']\n",
    "    user_id.append(m)\n",
    "    questions.append(n)\n",
    "print(user_id)\n",
    "print(questions)"
   ]
  },
  {
   "cell_type": "code",
   "execution_count": 48,
   "metadata": {
    "collapsed": false
   },
   "outputs": [
    {
     "name": "stdout",
     "output_type": "stream",
     "text": [
      "{'4061181': 13, '5993616': 6, '6784133': 11, '7098923': 1, '3200709': 3, '7098737': 2, '4814204': 5, '2396502': 22, '7004928': 3, '7098461': 0, '6468053': 5, '1591487': 17, '5596746': 5, '1951176': 22, '5928573': 3, '2029648': 11, '1754927': 7, '1906088': 24, '1150428': 19, '4794891': 3, '3653831': 8, '7098896': 1, '5427525': 0, '3944404': 2, '3191569': 10, '1679073': 8, '3633250': 31, '6764079': 17, '6287695': 2, '3190076': 22}\n"
     ]
    }
   ],
   "source": [
    "import requests\n",
    "import json\n",
    "user_dic = {}\n",
    "for i in user_id:\n",
    "    url = 'https://api.stackexchange.com/2.2/users/'\n",
    "    url = url + str(i) \n",
    "    url = url + '?order=desc&sort=reputation&site=stackoverflow'\n",
    "    r4 = requests.get(url)\n",
    "    jsonname = r4.json()\n",
    "    user_dic[str(i)] = jsonname['items'][0]['badge_counts']['bronze'] + jsonname['items'][0]['badge_counts']['silver'] + jsonname['items'][0]['badge_counts']['gold']\n",
    "print(user_dic)"
   ]
  },
  {
   "cell_type": "code",
   "execution_count": 53,
   "metadata": {
    "collapsed": false
   },
   "outputs": [
    {
     "name": "stdout",
     "output_type": "stream",
     "text": [
      "{'4061181': ['django', 'jquery', 'javascript', 'twitter-bootstrap', 'python', 'json', 'css', 'vba', 'selectize.js', 'ajax', 'html', 'mysql', 'highcharts', 'error-handling', 'excel', 'django-forms', 'django-templates', 'django-endless-pagination', 'datatables', 'exception-handling', 'curl', 'parsley.js', 'templates', 'serialization', 'regex', 'sql-server', 'sql-server-2008', 'urlconf', 'orm', 'pagination'], '5993616': ['python', 'abaqus', 'function', 'mesh', 'numpy', 'comparison', 'delaunay', 'embedding', 'file', 'freecad', 'python-2.7', 'text', 'volume'], '6784133': ['brace-initialization', 'c++', 'c++11', 'dataframe', 'datetimeindex', 'matlab', 'mixture-model', 'pandas', 'python', 'return', 'return-value'], '7098923': ['api', 'nest', 'python'], '3200709': ['python', 'ubuntu', 'matplotlib'], '7098737': ['computational-geometry', 'python', 'transformation'], '4814204': ['html', 'c#', 'css', 'mvvm', 'mysql', 'python', 'wpf', 'background', 'raspberry-pi', 'raspbian', 'svg', 'transparent', 'uwsgi', 'variables', 'navicat', 'nginx', 'npgsql', 'php', 'function', 'global', 'c++', 'constructor', 'inotifypropertychanged', 'javascript', 'jquery', 'local'], '2396502': ['python', 'gnuplot', 'fortran', 'graph-tool', 'networkx', 'python-3.x', 'random', 'plot', 'numpy', 'graph', 'fortran90', 'dictionary', 'openmp', 'parallel-processing', 'matplotlib', 'tab-completion', 'ubuntu', 'ubuntu-12.04', 'vim', 'multithreading', 'web-crawler', 'while-loop', 'wikipedia', 'wxwidgets', 'ubuntu-14.04', 'urllib', 'power-law', 'probability', 'python-import', 'seek'], '7004928': ['api', 'python', 'rest', 'sqlite', 'flash-message'], '7098461': ['python'], '6468053': ['python', 'networkx', 'pandas', 'numpy', 'python-3.x', 'scikit-learn', 'dataframe', 'graphviz', 'if-statement', 'indexing'], '1591487': ['apache-pig', 'java', 'matplotlib', 'pandas', 'python', 'dataframe', 'hbase', 'user-defined-functions', 'avro', 'batch-file', 'heap', 'intel-mkl', 'streaming', 'tar', 'ubuntu-12.04'], '5596746': ['python', 'selenium', 'python-3.x', 'scope', 'excel', 'gnutls', 'linux', 'mysql', 'name-mangling', 'pycurl', 'server', 'web-crawler', 'web-scraping', 'html', 'javascript', 'jquery', 'geckodriver', 'git', 'python-3.4', 'selenium-webdriver'], '1951176': ['android', 'tensorflow', 'python', 'neural-network', 'deep-learning', 'iso-prolog', 'java', 'layout', 'android-layout', 'add', 'android-sqlite', 'casting', 'numpy', 'scala', 'prolog', 'shell', 'python-2.7', 'orientation-changes', 'pandoc', 'parse.com', 'poppler', 'conv-neural-network', 'nullpointerexception', 'textview', 'theano', 'torch', 'travis-ci', 'uiautomator', 'view', 'zsh'], '5928573': ['python', 'scrapy', 'dalekjs', 'phantomjs'], '2029648': ['r', 'recommendation-engine', 'reshape', 'reshape2', 'scrapy', 'search-engine', 'sql', 'random', 'random-sample', 'rcpp', 'armadillo', 'domc', 'lapack', 'mapreduce', 'mysql', 'parallel-processing', 'plyr', 'postgresql', 'python'], '1754927': ['python', 'python-requests', 'celery', 'flask', 'java', 'memory', 'php', 'phpmailer', 'postgresql', 'redis', 'session', 'ssh', 'upgrade', 'websocket', 'python-2.7', 'alembic'], '1906088': ['c#', 'python', '.net', 'unit-testing', 'asp.net', 'asp.net-mvc-4', 'xaml', 'razor', 'moq', 'design-patterns', 'linux', 'mvvm', 'postgresql', 'python-unittest', 'shell', 'mocking', 'types', 'windows-runtime', 'asynchronous', 'bash', 'c++', 'code-behind', 'command-line', 'django', 'entity-framework', 'expression', 'foreach', 'graph', 'graphviz', 'html5'], '1150428': ['c++', 'python', 'linker-error', 'bash', 'algorithm', 'autoconf', 'automake', 'linux', 'makefile', 'mpi', 'python-3.x', 'python-internals', 'quoting', 'sed', 'set', 'shared-libraries', 'shell', 'similarity', 'templates', 'text', 'ubuntu', 'xml', 'xml-dtd', 'xmllint', 'configure', 'dtd', 'gcc-warning', 'header', 'inheritance', 'installation'], '4794891': ['python', 'python-3.x', 'rss', 'set', 'tkinter', 'variables', 'xml', 'assign', 'dict-comprehension', 'feedparser', 'html', 'list-comprehension'], '3653831': ['java', 'swing', 'unix', 'subprocess', 'python', 'jformattedtextfield', 'jlist', 'jspinner', 'parseexception', 'arrays', 'defaultlistmodel', 'design', 'design-patterns', 'fortran', 'fortran90', 'jar', 'simpledateformat', 'sqlite', 'javax.swing.text', 'jdbc'], '7098896': ['python'], '5427525': ['jupyter-notebook', 'matrix', 'numpy', 'python'], '3944404': ['atomicity', 'blogs', 'compare-and-swap', 'garbage-collection', 'pelican', 'python', 'vim'], '3191569': ['python', 'numpy', 'excel-vba', 'import', 'regex', 'scipy', 'vba', 'integration', 'pandas', 'quad', 'nltk', 'loops', 'matplotlib', 'max', 'min', 'multiprocessing', 'multithreading', 'negative-number', 'nlp', 'numerical-analysis', 'numerical-methods', 'parsing', 'plot', 'list', 'integrate', 'for-loop', 'group-by', 'if-statement', 'bessel-functions', 'boolean'], '1679073': ['python', 'random', 'string', 'while-loop', 'count', 'dice'], '3633250': ['machine-learning', 'python', 'neural-network', 'scikit-learn', 'tensorflow', 'deep-learning', 'classification', 'clips', 'computer-vision', 'expert-system', 'inference-engine', 'image-processing', 'numpy', 'caffe', 'anaconda', 'ubuntu', 'python-2.7', 'pybrain', 'generalization', 'pandas', 'matrix', 'java', 'document-classification', 'arrays', 'artificial-intelligence', 'opencv', 'regularized', 'sql', 'svm', 'list'], '6764079': ['python', 'kivy', 'python-2.7', 'kivy-language', 'android', 'sqlalchemy', 'python-3.x', 'pycharm', 'checkbox', 'locking', 'osx', 'turbogears2', 'layout', 'buildozer', 'concurrency', 'regex', 'security', 'postgresql', 'sniffer', 'sockets', 'scapy', 'python-3.5', 'console', 'cygwin', 'cython', 'django', 'drawing', 'encode', 'erpnext', 'facebook-messenger'], '6287695': ['r', 'rgdal', 'r-raster', 'raster', 'envi', 'for-loop', 'if-statement', 'python'], '3190076': ['python', 'python-2.7', 'pandas', 'python-3.x', 'list', 'arrays', 'dictionary', 'numpy', 'csv', 'dataframe', 'regex', 'pypy', 'matplotlib', 'string', 'loops', 'sorting', 'excel', 'exec', 'expand', 'append', 'bash', 'colors', 'command-line-arguments', 'json', 'jupyter-notebook', 'indexing', 'parsing', 'pip', 'scatter-plot', 'shell']}\n"
     ]
    }
   ],
   "source": [
    "import requests\n",
    "import json\n",
    "user_dic = {}\n",
    "for i in user_id:\n",
    "    url = 'https://api.stackexchange.com/2.2/users/'\n",
    "    url = url + str(i) \n",
    "    url = url + '/tags?order=desc&sort=popular&site=stackoverflow'\n",
    "    r5 = requests.get(url)\n",
    "    jsonname = r5.json()\n",
    "    user_list = []\n",
    "    for j in jsonname['items']:\n",
    "        if j['name'] not in user_list:\n",
    "            user_list.append(j['name'])\n",
    "    user_dic[str(i)] = user_list\n",
    "print(user_dic)\n"
   ]
  },
  {
   "cell_type": "code",
   "execution_count": 61,
   "metadata": {
    "collapsed": false
   },
   "outputs": [
    {
     "name": "stdout",
     "output_type": "stream",
     "text": [
      "{'Nested queries in SQL finding min and max using group by': ['mysql', 'sql'], 'Select absolute last element': ['css', 'sass'], 'Tight asymptotic upper bound for T(n)': ['time-complexity', 'big-theta'], 'How to get the full durect message using twitter REST API': ['twitter', 'twitter-rest-api'], 'datatables how to scroll to specific row without pagination': ['datatables'], 'Yii2 Mailer isn&#39;t actually sending emails': ['yii2', 'html-email', 'swiftmailer'], 'How to log the response time for insert and update query in hibernate': ['java', 'hibernate'], 'How can i make a foreground and background 2-3 hr timer in a Swift game?': ['ios', 'swift', 'timer', 'nstimer'], 'Set a maximum length, requirement for space and minimum characters': ['regex'], 'Check Whether Users Enters Integer or String JAVA': ['java', 'string', 'integer'], 'Chrome browser is not able to navigate to any site in appium': ['java', 'selenium-webdriver', 'appium'], 'UITableViewCell Separator disappearing in iOS7': ['ios', 'objective-c', 'uitableview', 'ios7'], 'What are swappable models in django?': ['python', 'django', 'django-models'], 'Filtering IQueryable based on dynamic field': ['entity-framework', 'lambda'], 'Update HTML page after jquery.click': ['javascript', 'jquery', 'html', 'asp.net', 'asp.net-mvc'], 'Excel 2010 Formula Array Shortcut not working': ['excel', 'keyboard-shortcuts'], 'programatically pair BLE and access sockets': ['python', 'sockets', 'bluetooth', 'bluetooth-lowenergy'], 'Defining dynamic variable inside function scope': ['php', 'oop', 'variables'], 'Password Consola application with the use of a while loop C#': ['c#', 'while-loop', 'passwords', 'console-application', 'limit'], 'When is a XAML (UWP) GridView completely loaded?': ['c#', 'xaml', 'uwp', 'uwp-xaml'], 'jQuery Scroll Top on Bootstrap modal': ['javascript', 'jquery', 'twitter-bootstrap', 'bootstrap-modal'], 'PostgreSQL: subquery must return one column': ['postgresql'], 'Visual studio 2015 - node.js, express 4 using typescript project does not compile': ['node.js', 'typescript', 'visual-studio-2015-comm', 'express-4'], 'Why does Ocaml throw this &quot;expression was expected of type int&quot; error only when a function is applied on positive integers': ['ocaml', 'typing'], 'java break out of a while loop': ['java'], 'Date Picker Dialog with AppCompat theme': ['android', 'datepicker', 'themes', 'appcompat'], 'Can an SQL procedure return a table?': ['sql', 'oracle', 'procedure'], 'Need assistance with my Java homework project': ['java', 'arrays', 'class'], 'PHP SQL connectivity': ['php', 'sql-server'], 'Triggered a break point C++': ['c++', 'visual-studio', 'pointers', 'breakpoints', 'void-pointers']}\n"
     ]
    }
   ],
   "source": [
    "r6 = requests.get('http://api.stackexchange.com/2.2/questions?order=desc&sort=activity&site=stackoverflow')\n",
    "jsonname = r6.json()\n",
    "questions_dic = {}\n",
    "for i in jsonname['items']:\n",
    "    name = i['title']\n",
    "    taglist =  []\n",
    "    for j in i['tags']:       \n",
    "        taglist.append(j)\n",
    "    questions_dic[name] = taglist\n",
    "print(questions_dic)"
   ]
  },
  {
   "cell_type": "code",
   "execution_count": 62,
   "metadata": {
    "collapsed": false,
    "scrolled": false
   },
   "outputs": [
    {
     "name": "stdout",
     "output_type": "stream",
     "text": [
      "the most view question is\n",
      "How to import a .aar file into Android Studio 1.1.0 and use it in my code\n",
      "3769248\n",
      "the count of it is\n",
      "10879\n"
     ]
    }
   ],
   "source": [
    "r7 = requests.get('http://api.stackexchange.com/2.2/questions?order=desc&sort=activity&site=stackoverflow')\n",
    "jsonname = r7.json()\n",
    "n = 0\n",
    "user_id = 0\n",
    "question = ''\n",
    "for i in jsonname['items']:\n",
    "    if i['view_count'] > n:\n",
    "        n = i['view_count']\n",
    "        user_id = i['owner']['user_id']\n",
    "        question = i['title']\n",
    "print('the most view question is')\n",
    "print(question)\n",
    "print(user_id)\n",
    "print('the count of it is')\n",
    "print(n)"
   ]
  },
  {
   "cell_type": "code",
   "execution_count": null,
   "metadata": {
    "collapsed": true
   },
   "outputs": [],
   "source": []
  }
 ],
 "metadata": {
  "anaconda-cloud": {},
  "kernelspec": {
   "display_name": "Python [Root]",
   "language": "python",
   "name": "Python [Root]"
  },
  "language_info": {
   "codemirror_mode": {
    "name": "ipython",
    "version": 3
   },
   "file_extension": ".py",
   "mimetype": "text/x-python",
   "name": "python",
   "nbconvert_exporter": "python",
   "pygments_lexer": "ipython3",
   "version": "3.5.2"
  }
 },
 "nbformat": 4,
 "nbformat_minor": 0
}
