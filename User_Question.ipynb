{
 "cells": [
  {
   "cell_type": "code",
   "execution_count": 32,
   "metadata": {
    "collapsed": false
   },
   "outputs": [
    {
     "name": "stdout",
     "output_type": "stream",
     "text": [
      "[38717330, 614476, 38592556]\n"
     ]
    }
   ],
   "source": [
    "import requests\n",
    "import json\n",
    "url = 'https://api.stackexchange.com/2.2/users/2275/questions?order=desc&sort=activity&site=stackoverflow'\n",
    "request1 = requests.get(url)\n",
    "jsonname = request1.json()\n",
    "items = jsonname['items']\n",
    "questionID = []\n",
    "for i in range(3):\n",
    "    questionID.append(items[i]['question_id'])\n",
    "print(questionID)"
   ]
  },
  {
   "cell_type": "code",
   "execution_count": 45,
   "metadata": {
    "collapsed": false
   },
   "outputs": [
    {
     "name": "stdout",
     "output_type": "stream",
     "text": [
      "{'614476': [38645625, 614483, 10829364, 6131703, 614537, 614490, 614479], '38592556': [], '38717330': [38796086, 38727562]}\n"
     ]
    }
   ],
   "source": [
    "\n",
    "questiondic = {}\n",
    "for j in questionID:\n",
    "    answerid = []\n",
    "    url = 'https://api.stackexchange.com/2.2/questions/'\n",
    "    url = url + str(j)\n",
    "    url = url + '/answers?order=desc&sort=activity&site=stackoverflow'\n",
    "    request2 = requests.get(url)\n",
    "    jsonname = request2.json()\n",
    "    for m in jsonname['items']:\n",
    "        answerid.append(m['answer_id'])\n",
    "    questiondic[str(j)] = answerid\n",
    "print(questiondic)"
   ]
  },
  {
   "cell_type": "code",
   "execution_count": null,
   "metadata": {
    "collapsed": true
   },
   "outputs": [],
   "source": []
  }
 ],
 "metadata": {
  "anaconda-cloud": {},
  "kernelspec": {
   "display_name": "Python [Root]",
   "language": "python",
   "name": "Python [Root]"
  },
  "language_info": {
   "codemirror_mode": {
    "name": "ipython",
    "version": 3
   },
   "file_extension": ".py",
   "mimetype": "text/x-python",
   "name": "python",
   "nbconvert_exporter": "python",
   "pygments_lexer": "ipython3",
   "version": "3.5.2"
  }
 },
 "nbformat": 4,
 "nbformat_minor": 0
}
