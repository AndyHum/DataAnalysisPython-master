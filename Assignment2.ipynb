{
 "cells": [
  {
   "cell_type": "code",
   "execution_count": 259,
   "metadata": {
    "collapsed": false
   },
   "outputs": [],
   "source": [
    "import oauth2 as oauth\n",
    "import tweepy\n",
    "from tweepy import OAuthHandler\n",
    "import argparse, time, datetime, requests, os, json\n",
    "from heapq import *\n",
    "from requests_oauthlib import OAuth1\n",
    "import pytz\n",
    "from datetime import datetime\n",
    "import operator\n",
    " \n",
    "consumer_key = 'w2bBUontza2zpX1cnQ3LV8JY5'\n",
    "consumer_secret = 'aF3dMOJesvAFOKoazAODP0zqnUN7XEDJvDY8HsbVIc5sEUQ9Sg'\n",
    "access_token = '3162877560-bL9ILWTxtSFt1zqES5m8de8EXHDKpyvGwZi3xFY'\n",
    "access_secret = '0XrxV9njXgyRBIhKgjxgj74gGZ4U7MIrNb2ejLCfKpmc9'\n",
    " \n",
    "consumer = oauth.Consumer(key=consumer_key, secret=consumer_secret)\n",
    "access_token = oauth.Token(key=access_token, secret=access_secret)\n",
    "client = oauth.Client(consumer, access_token)\n"
   ]
  },
  {
   "cell_type": "code",
   "execution_count": 54,
   "metadata": {
    "collapsed": false
   },
   "outputs": [
    {
     "data": {
      "text/plain": [
       "Namespace(accumulate=<built-in function sum>, integers=[7, -1, 42])"
      ]
     },
     "execution_count": 54,
     "metadata": {},
     "output_type": "execute_result"
    }
   ],
   "source": [
    "import argparse\n",
    "parser = argparse.ArgumentParser(description='Process some integers.')\n",
    "parser.add_argument('string', metavar='N', type=int, \n",
    "                    nargs='+',help='an integer for the accumulator')\n",
    "parser.add_argument('--sum', dest='accumulate', action='store_const',\n",
    "                    const=sum, default=max,\n",
    "                    help='sum the integers (default: find the max)')\n",
    "parser.parse_args(['--sum', '7', '-1', '42'])"
   ]
  },
  {
   "cell_type": "code",
   "execution_count": 66,
   "metadata": {
    "collapsed": false
   },
   "outputs": [],
   "source": [
    "import os\n",
    "def checkexist():\n",
    "    if not os.path.exists(\"/assignment1\"):\n",
    "        os.makedirs(\"/assignment1\")"
   ]
  },
  {
   "cell_type": "code",
   "execution_count": 67,
   "metadata": {
    "collapsed": true
   },
   "outputs": [],
   "source": [
    "import os\n",
    "import time\n",
    "def checkexistwithdate():\n",
    "    now = time.strftime(\"%d/%m/%Y-%H:%M:%S\")\n",
    "    folder = \"/\" + now\n",
    "    if not os.path.exists(folder):\n",
    "        os.makedirs(folder)"
   ]
  },
  {
   "cell_type": "code",
   "execution_count": 103,
   "metadata": {
    "collapsed": false
   },
   "outputs": [
    {
     "name": "stdout",
     "output_type": "stream",
     "text": [
      "searchTrump\n",
      "date2016/25/10\n"
     ]
    }
   ],
   "source": [
    "user_input = input('search')\n",
    "date = input('date')\n",
    "search_term = {'q': user_input, 'since': date, 'count': 100, 'result_type': 'mixed'}"
   ]
  },
  {
   "cell_type": "code",
   "execution_count": 262,
   "metadata": {
    "collapsed": false
   },
   "outputs": [
    {
     "ename": "ValueError",
     "evalue": "Only unicode objects are escapable. Got oauth_token=3162877560-bL9ILWTxtSFt1zqES5m8de8EXHDKpyvGwZi3xFY&oauth_token_secret=0XrxV9njXgyRBIhKgjxgj74gGZ4U7MIrNb2ejLCfKpmc9 of type <class 'oauth2.Token'>.",
     "output_type": "error",
     "traceback": [
      "\u001b[1;31m\u001b[0m",
      "\u001b[1;31mValueError\u001b[0mTraceback (most recent call last)",
      "\u001b[1;32m<ipython-input-262-c081c6c97f9c>\u001b[0m in \u001b[0;36m<module>\u001b[1;34m()\u001b[0m\n\u001b[0;32m      7\u001b[0m     \u001b[0mresults\u001b[0m \u001b[1;33m=\u001b[0m \u001b[0mrequests\u001b[0m\u001b[1;33m.\u001b[0m\u001b[0mget\u001b[0m\u001b[1;33m(\u001b[0m\u001b[0murl\u001b[0m\u001b[1;33m,\u001b[0m \u001b[0mparams\u001b[0m\u001b[1;33m=\u001b[0m\u001b[0msearch_term\u001b[0m\u001b[1;33m,\u001b[0m \u001b[0mauth\u001b[0m\u001b[1;33m=\u001b[0m\u001b[0mauth\u001b[0m\u001b[1;33m)\u001b[0m\u001b[1;33m\u001b[0m\u001b[0m\n\u001b[0;32m      8\u001b[0m     \u001b[1;32mreturn\u001b[0m \u001b[0mresults\u001b[0m\u001b[1;33m.\u001b[0m\u001b[0mjson\u001b[0m\u001b[1;33m(\u001b[0m\u001b[1;33m)\u001b[0m\u001b[1;33m\u001b[0m\u001b[0m\n\u001b[1;32m----> 9\u001b[1;33m \u001b[0mdata\u001b[0m \u001b[1;33m=\u001b[0m \u001b[0mauthenticate_and_search\u001b[0m\u001b[1;33m(\u001b[0m\u001b[1;33m)\u001b[0m\u001b[1;33m\u001b[0m\u001b[0m\n\u001b[0m",
      "\u001b[1;32m<ipython-input-262-c081c6c97f9c>\u001b[0m in \u001b[0;36mauthenticate_and_search\u001b[1;34m()\u001b[0m\n\u001b[0;32m      2\u001b[0m     \u001b[0mauth\u001b[0m \u001b[1;33m=\u001b[0m \u001b[0mOAuth1\u001b[0m\u001b[1;33m(\u001b[0m\u001b[0mconsumer_key\u001b[0m\u001b[1;33m,\u001b[0m \u001b[0mconsumer_secret\u001b[0m\u001b[1;33m,\u001b[0m \u001b[0maccess_token\u001b[0m\u001b[1;33m,\u001b[0m \u001b[0maccess_secret\u001b[0m\u001b[1;33m)\u001b[0m\u001b[1;33m\u001b[0m\u001b[0m\n\u001b[0;32m      3\u001b[0m     \u001b[0mverification_url\u001b[0m \u001b[1;33m=\u001b[0m \u001b[1;34m'https://api.twitter.com/1.1/account/verify_credentials.json'\u001b[0m\u001b[1;33m\u001b[0m\u001b[0m\n\u001b[1;32m----> 4\u001b[1;33m     \u001b[0mrequests\u001b[0m\u001b[1;33m.\u001b[0m\u001b[0mget\u001b[0m\u001b[1;33m(\u001b[0m\u001b[0mverification_url\u001b[0m\u001b[1;33m,\u001b[0m \u001b[0mauth\u001b[0m\u001b[1;33m=\u001b[0m\u001b[0mauth\u001b[0m\u001b[1;33m)\u001b[0m\u001b[1;33m\u001b[0m\u001b[0m\n\u001b[0m\u001b[0;32m      5\u001b[0m \u001b[1;33m\u001b[0m\u001b[0m\n\u001b[0;32m      6\u001b[0m     \u001b[0murl\u001b[0m \u001b[1;33m=\u001b[0m \u001b[1;34m'https://api.twitter.com/1.1/search/tweets.json'\u001b[0m\u001b[1;33m\u001b[0m\u001b[0m\n",
      "\u001b[1;32mD:\\anaconda3\\lib\\site-packages\\requests\\api.py\u001b[0m in \u001b[0;36mget\u001b[1;34m(url, params, **kwargs)\u001b[0m\n\u001b[0;32m     69\u001b[0m \u001b[1;33m\u001b[0m\u001b[0m\n\u001b[0;32m     70\u001b[0m     \u001b[0mkwargs\u001b[0m\u001b[1;33m.\u001b[0m\u001b[0msetdefault\u001b[0m\u001b[1;33m(\u001b[0m\u001b[1;34m'allow_redirects'\u001b[0m\u001b[1;33m,\u001b[0m \u001b[1;32mTrue\u001b[0m\u001b[1;33m)\u001b[0m\u001b[1;33m\u001b[0m\u001b[0m\n\u001b[1;32m---> 71\u001b[1;33m     \u001b[1;32mreturn\u001b[0m \u001b[0mrequest\u001b[0m\u001b[1;33m(\u001b[0m\u001b[1;34m'get'\u001b[0m\u001b[1;33m,\u001b[0m \u001b[0murl\u001b[0m\u001b[1;33m,\u001b[0m \u001b[0mparams\u001b[0m\u001b[1;33m=\u001b[0m\u001b[0mparams\u001b[0m\u001b[1;33m,\u001b[0m \u001b[1;33m**\u001b[0m\u001b[0mkwargs\u001b[0m\u001b[1;33m)\u001b[0m\u001b[1;33m\u001b[0m\u001b[0m\n\u001b[0m\u001b[0;32m     72\u001b[0m \u001b[1;33m\u001b[0m\u001b[0m\n\u001b[0;32m     73\u001b[0m \u001b[1;33m\u001b[0m\u001b[0m\n",
      "\u001b[1;32mD:\\anaconda3\\lib\\site-packages\\requests\\api.py\u001b[0m in \u001b[0;36mrequest\u001b[1;34m(method, url, **kwargs)\u001b[0m\n\u001b[0;32m     55\u001b[0m     \u001b[1;31m# cases, and look like a memory leak in others.\u001b[0m\u001b[1;33m\u001b[0m\u001b[1;33m\u001b[0m\u001b[0m\n\u001b[0;32m     56\u001b[0m     \u001b[1;32mwith\u001b[0m \u001b[0msessions\u001b[0m\u001b[1;33m.\u001b[0m\u001b[0mSession\u001b[0m\u001b[1;33m(\u001b[0m\u001b[1;33m)\u001b[0m \u001b[1;32mas\u001b[0m \u001b[0msession\u001b[0m\u001b[1;33m:\u001b[0m\u001b[1;33m\u001b[0m\u001b[0m\n\u001b[1;32m---> 57\u001b[1;33m         \u001b[1;32mreturn\u001b[0m \u001b[0msession\u001b[0m\u001b[1;33m.\u001b[0m\u001b[0mrequest\u001b[0m\u001b[1;33m(\u001b[0m\u001b[0mmethod\u001b[0m\u001b[1;33m=\u001b[0m\u001b[0mmethod\u001b[0m\u001b[1;33m,\u001b[0m \u001b[0murl\u001b[0m\u001b[1;33m=\u001b[0m\u001b[0murl\u001b[0m\u001b[1;33m,\u001b[0m \u001b[1;33m**\u001b[0m\u001b[0mkwargs\u001b[0m\u001b[1;33m)\u001b[0m\u001b[1;33m\u001b[0m\u001b[0m\n\u001b[0m\u001b[0;32m     58\u001b[0m \u001b[1;33m\u001b[0m\u001b[0m\n\u001b[0;32m     59\u001b[0m \u001b[1;33m\u001b[0m\u001b[0m\n",
      "\u001b[1;32mD:\\anaconda3\\lib\\site-packages\\requests\\sessions.py\u001b[0m in \u001b[0;36mrequest\u001b[1;34m(self, method, url, params, data, headers, cookies, files, auth, timeout, allow_redirects, proxies, hooks, stream, verify, cert, json)\u001b[0m\n\u001b[0;32m    459\u001b[0m             \u001b[0mhooks\u001b[0m \u001b[1;33m=\u001b[0m \u001b[0mhooks\u001b[0m\u001b[1;33m,\u001b[0m\u001b[1;33m\u001b[0m\u001b[0m\n\u001b[0;32m    460\u001b[0m         )\n\u001b[1;32m--> 461\u001b[1;33m         \u001b[0mprep\u001b[0m \u001b[1;33m=\u001b[0m \u001b[0mself\u001b[0m\u001b[1;33m.\u001b[0m\u001b[0mprepare_request\u001b[0m\u001b[1;33m(\u001b[0m\u001b[0mreq\u001b[0m\u001b[1;33m)\u001b[0m\u001b[1;33m\u001b[0m\u001b[0m\n\u001b[0m\u001b[0;32m    462\u001b[0m \u001b[1;33m\u001b[0m\u001b[0m\n\u001b[0;32m    463\u001b[0m         \u001b[0mproxies\u001b[0m \u001b[1;33m=\u001b[0m \u001b[0mproxies\u001b[0m \u001b[1;32mor\u001b[0m \u001b[1;33m{\u001b[0m\u001b[1;33m}\u001b[0m\u001b[1;33m\u001b[0m\u001b[0m\n",
      "\u001b[1;32mD:\\anaconda3\\lib\\site-packages\\requests\\sessions.py\u001b[0m in \u001b[0;36mprepare_request\u001b[1;34m(self, request)\u001b[0m\n\u001b[0;32m    392\u001b[0m             \u001b[0mauth\u001b[0m\u001b[1;33m=\u001b[0m\u001b[0mmerge_setting\u001b[0m\u001b[1;33m(\u001b[0m\u001b[0mauth\u001b[0m\u001b[1;33m,\u001b[0m \u001b[0mself\u001b[0m\u001b[1;33m.\u001b[0m\u001b[0mauth\u001b[0m\u001b[1;33m)\u001b[0m\u001b[1;33m,\u001b[0m\u001b[1;33m\u001b[0m\u001b[0m\n\u001b[0;32m    393\u001b[0m             \u001b[0mcookies\u001b[0m\u001b[1;33m=\u001b[0m\u001b[0mmerged_cookies\u001b[0m\u001b[1;33m,\u001b[0m\u001b[1;33m\u001b[0m\u001b[0m\n\u001b[1;32m--> 394\u001b[1;33m             \u001b[0mhooks\u001b[0m\u001b[1;33m=\u001b[0m\u001b[0mmerge_hooks\u001b[0m\u001b[1;33m(\u001b[0m\u001b[0mrequest\u001b[0m\u001b[1;33m.\u001b[0m\u001b[0mhooks\u001b[0m\u001b[1;33m,\u001b[0m \u001b[0mself\u001b[0m\u001b[1;33m.\u001b[0m\u001b[0mhooks\u001b[0m\u001b[1;33m)\u001b[0m\u001b[1;33m,\u001b[0m\u001b[1;33m\u001b[0m\u001b[0m\n\u001b[0m\u001b[0;32m    395\u001b[0m         )\n\u001b[0;32m    396\u001b[0m         \u001b[1;32mreturn\u001b[0m \u001b[0mp\u001b[0m\u001b[1;33m\u001b[0m\u001b[0m\n",
      "\u001b[1;32mD:\\anaconda3\\lib\\site-packages\\requests\\models.py\u001b[0m in \u001b[0;36mprepare\u001b[1;34m(self, method, url, headers, files, data, params, auth, cookies, hooks, json)\u001b[0m\n\u001b[0;32m    297\u001b[0m         \u001b[0mself\u001b[0m\u001b[1;33m.\u001b[0m\u001b[0mprepare_cookies\u001b[0m\u001b[1;33m(\u001b[0m\u001b[0mcookies\u001b[0m\u001b[1;33m)\u001b[0m\u001b[1;33m\u001b[0m\u001b[0m\n\u001b[0;32m    298\u001b[0m         \u001b[0mself\u001b[0m\u001b[1;33m.\u001b[0m\u001b[0mprepare_body\u001b[0m\u001b[1;33m(\u001b[0m\u001b[0mdata\u001b[0m\u001b[1;33m,\u001b[0m \u001b[0mfiles\u001b[0m\u001b[1;33m,\u001b[0m \u001b[0mjson\u001b[0m\u001b[1;33m)\u001b[0m\u001b[1;33m\u001b[0m\u001b[0m\n\u001b[1;32m--> 299\u001b[1;33m         \u001b[0mself\u001b[0m\u001b[1;33m.\u001b[0m\u001b[0mprepare_auth\u001b[0m\u001b[1;33m(\u001b[0m\u001b[0mauth\u001b[0m\u001b[1;33m,\u001b[0m \u001b[0murl\u001b[0m\u001b[1;33m)\u001b[0m\u001b[1;33m\u001b[0m\u001b[0m\n\u001b[0m\u001b[0;32m    300\u001b[0m \u001b[1;33m\u001b[0m\u001b[0m\n\u001b[0;32m    301\u001b[0m         \u001b[1;31m# Note that prepare_auth must be last to enable authentication schemes\u001b[0m\u001b[1;33m\u001b[0m\u001b[1;33m\u001b[0m\u001b[0m\n",
      "\u001b[1;32mD:\\anaconda3\\lib\\site-packages\\requests\\models.py\u001b[0m in \u001b[0;36mprepare_auth\u001b[1;34m(self, auth, url)\u001b[0m\n\u001b[0;32m    492\u001b[0m \u001b[1;33m\u001b[0m\u001b[0m\n\u001b[0;32m    493\u001b[0m             \u001b[1;31m# Allow auth to make its changes.\u001b[0m\u001b[1;33m\u001b[0m\u001b[1;33m\u001b[0m\u001b[0m\n\u001b[1;32m--> 494\u001b[1;33m             \u001b[0mr\u001b[0m \u001b[1;33m=\u001b[0m \u001b[0mauth\u001b[0m\u001b[1;33m(\u001b[0m\u001b[0mself\u001b[0m\u001b[1;33m)\u001b[0m\u001b[1;33m\u001b[0m\u001b[0m\n\u001b[0m\u001b[0;32m    495\u001b[0m \u001b[1;33m\u001b[0m\u001b[0m\n\u001b[0;32m    496\u001b[0m             \u001b[1;31m# Update self to reflect the auth changes.\u001b[0m\u001b[1;33m\u001b[0m\u001b[1;33m\u001b[0m\u001b[0m\n",
      "\u001b[1;32mD:\\anaconda3\\lib\\site-packages\\requests_oauthlib\\oauth1_auth.py\u001b[0m in \u001b[0;36m__call__\u001b[1;34m(self, r)\u001b[0m\n\u001b[0;32m     86\u001b[0m             \u001b[1;31m# Omit body data in the signing of non form-encoded requests\u001b[0m\u001b[1;33m\u001b[0m\u001b[1;33m\u001b[0m\u001b[0m\n\u001b[0;32m     87\u001b[0m             r.url, headers, _ = self.client.sign(\n\u001b[1;32m---> 88\u001b[1;33m                 unicode(r.url), unicode(r.method), None, r.headers)\n\u001b[0m\u001b[0;32m     89\u001b[0m \u001b[1;33m\u001b[0m\u001b[0m\n\u001b[0;32m     90\u001b[0m         \u001b[0mr\u001b[0m\u001b[1;33m.\u001b[0m\u001b[0mprepare_headers\u001b[0m\u001b[1;33m(\u001b[0m\u001b[0mheaders\u001b[0m\u001b[1;33m)\u001b[0m\u001b[1;33m\u001b[0m\u001b[0m\n",
      "\u001b[1;32mD:\\anaconda3\\lib\\site-packages\\oauthlib\\oauth1\\rfc5849\\__init__.py\u001b[0m in \u001b[0;36msign\u001b[1;34m(self, uri, http_method, body, headers, realm)\u001b[0m\n\u001b[0;32m    311\u001b[0m         \u001b[1;31m# generate the signature\u001b[0m\u001b[1;33m\u001b[0m\u001b[1;33m\u001b[0m\u001b[0m\n\u001b[0;32m    312\u001b[0m         request.oauth_params.append(\n\u001b[1;32m--> 313\u001b[1;33m             ('oauth_signature', self.get_oauth_signature(request)))\n\u001b[0m\u001b[0;32m    314\u001b[0m \u001b[1;33m\u001b[0m\u001b[0m\n\u001b[0;32m    315\u001b[0m         \u001b[1;31m# render the signed request and return it\u001b[0m\u001b[1;33m\u001b[0m\u001b[1;33m\u001b[0m\u001b[0m\n",
      "\u001b[1;32mD:\\anaconda3\\lib\\site-packages\\oauthlib\\oauth1\\rfc5849\\__init__.py\u001b[0m in \u001b[0;36mget_oauth_signature\u001b[1;34m(self, request)\u001b[0m\n\u001b[0;32m    126\u001b[0m                                             self.resource_owner_secret)\n\u001b[0;32m    127\u001b[0m \u001b[1;33m\u001b[0m\u001b[0m\n\u001b[1;32m--> 128\u001b[1;33m         \u001b[0muri\u001b[0m\u001b[1;33m,\u001b[0m \u001b[0mheaders\u001b[0m\u001b[1;33m,\u001b[0m \u001b[0mbody\u001b[0m \u001b[1;33m=\u001b[0m \u001b[0mself\u001b[0m\u001b[1;33m.\u001b[0m\u001b[0m_render\u001b[0m\u001b[1;33m(\u001b[0m\u001b[0mrequest\u001b[0m\u001b[1;33m)\u001b[0m\u001b[1;33m\u001b[0m\u001b[0m\n\u001b[0m\u001b[0;32m    129\u001b[0m \u001b[1;33m\u001b[0m\u001b[0m\n\u001b[0;32m    130\u001b[0m         collected_params = signature.collect_parameters(\n",
      "\u001b[1;32mD:\\anaconda3\\lib\\site-packages\\oauthlib\\oauth1\\rfc5849\\__init__.py\u001b[0m in \u001b[0;36m_render\u001b[1;34m(self, request, formencode, realm)\u001b[0m\n\u001b[0;32m    208\u001b[0m         \u001b[1;32mif\u001b[0m \u001b[0mself\u001b[0m\u001b[1;33m.\u001b[0m\u001b[0msignature_type\u001b[0m \u001b[1;33m==\u001b[0m \u001b[0mSIGNATURE_TYPE_AUTH_HEADER\u001b[0m\u001b[1;33m:\u001b[0m\u001b[1;33m\u001b[0m\u001b[0m\n\u001b[0;32m    209\u001b[0m             headers = parameters.prepare_headers(\n\u001b[1;32m--> 210\u001b[1;33m                 request.oauth_params, request.headers, realm=realm)\n\u001b[0m\u001b[0;32m    211\u001b[0m         \u001b[1;32melif\u001b[0m \u001b[0mself\u001b[0m\u001b[1;33m.\u001b[0m\u001b[0msignature_type\u001b[0m \u001b[1;33m==\u001b[0m \u001b[0mSIGNATURE_TYPE_BODY\u001b[0m \u001b[1;32mand\u001b[0m \u001b[0mrequest\u001b[0m\u001b[1;33m.\u001b[0m\u001b[0mdecoded_body\u001b[0m \u001b[1;32mis\u001b[0m \u001b[1;32mnot\u001b[0m \u001b[1;32mNone\u001b[0m\u001b[1;33m:\u001b[0m\u001b[1;33m\u001b[0m\u001b[0m\n\u001b[0;32m    212\u001b[0m             body = parameters.prepare_form_encoded_body(\n",
      "\u001b[1;32mD:\\anaconda3\\lib\\site-packages\\oauthlib\\oauth1\\rfc5849\\utils.py\u001b[0m in \u001b[0;36mwrapper\u001b[1;34m(params, *args, **kwargs)\u001b[0m\n\u001b[0;32m     29\u001b[0m     \u001b[1;32mdef\u001b[0m \u001b[0mwrapper\u001b[0m\u001b[1;33m(\u001b[0m\u001b[0mparams\u001b[0m\u001b[1;33m,\u001b[0m \u001b[1;33m*\u001b[0m\u001b[0margs\u001b[0m\u001b[1;33m,\u001b[0m \u001b[1;33m**\u001b[0m\u001b[0mkwargs\u001b[0m\u001b[1;33m)\u001b[0m\u001b[1;33m:\u001b[0m\u001b[1;33m\u001b[0m\u001b[0m\n\u001b[0;32m     30\u001b[0m         \u001b[0mparams\u001b[0m \u001b[1;33m=\u001b[0m \u001b[0mfilter_oauth_params\u001b[0m\u001b[1;33m(\u001b[0m\u001b[0mparams\u001b[0m\u001b[1;33m)\u001b[0m\u001b[1;33m\u001b[0m\u001b[0m\n\u001b[1;32m---> 31\u001b[1;33m         \u001b[1;32mreturn\u001b[0m \u001b[0mtarget\u001b[0m\u001b[1;33m(\u001b[0m\u001b[0mparams\u001b[0m\u001b[1;33m,\u001b[0m \u001b[1;33m*\u001b[0m\u001b[0margs\u001b[0m\u001b[1;33m,\u001b[0m \u001b[1;33m**\u001b[0m\u001b[0mkwargs\u001b[0m\u001b[1;33m)\u001b[0m\u001b[1;33m\u001b[0m\u001b[0m\n\u001b[0m\u001b[0;32m     32\u001b[0m \u001b[1;33m\u001b[0m\u001b[0m\n\u001b[0;32m     33\u001b[0m     \u001b[0mwrapper\u001b[0m\u001b[1;33m.\u001b[0m\u001b[0m__doc__\u001b[0m \u001b[1;33m=\u001b[0m \u001b[0mtarget\u001b[0m\u001b[1;33m.\u001b[0m\u001b[0m__doc__\u001b[0m\u001b[1;33m\u001b[0m\u001b[0m\n",
      "\u001b[1;32mD:\\anaconda3\\lib\\site-packages\\oauthlib\\oauth1\\rfc5849\\parameters.py\u001b[0m in \u001b[0;36mprepare_headers\u001b[1;34m(oauth_params, headers, realm)\u001b[0m\n\u001b[0;32m     55\u001b[0m         \u001b[1;31m# .. _`Section 3.6`: http://tools.ietf.org/html/rfc5849#section-3.6\u001b[0m\u001b[1;33m\u001b[0m\u001b[1;33m\u001b[0m\u001b[0m\n\u001b[0;32m     56\u001b[0m         \u001b[0mescaped_name\u001b[0m \u001b[1;33m=\u001b[0m \u001b[0mutils\u001b[0m\u001b[1;33m.\u001b[0m\u001b[0mescape\u001b[0m\u001b[1;33m(\u001b[0m\u001b[0moauth_parameter_name\u001b[0m\u001b[1;33m)\u001b[0m\u001b[1;33m\u001b[0m\u001b[0m\n\u001b[1;32m---> 57\u001b[1;33m         \u001b[0mescaped_value\u001b[0m \u001b[1;33m=\u001b[0m \u001b[0mutils\u001b[0m\u001b[1;33m.\u001b[0m\u001b[0mescape\u001b[0m\u001b[1;33m(\u001b[0m\u001b[0mvalue\u001b[0m\u001b[1;33m)\u001b[0m\u001b[1;33m\u001b[0m\u001b[0m\n\u001b[0m\u001b[0;32m     58\u001b[0m \u001b[1;33m\u001b[0m\u001b[0m\n\u001b[0;32m     59\u001b[0m         \u001b[1;31m# 2.  Each parameter's name is immediately followed by an \"=\" character\u001b[0m\u001b[1;33m\u001b[0m\u001b[1;33m\u001b[0m\u001b[0m\n",
      "\u001b[1;32mD:\\anaconda3\\lib\\site-packages\\oauthlib\\oauth1\\rfc5849\\utils.py\u001b[0m in \u001b[0;36mescape\u001b[1;34m(u)\u001b[0m\n\u001b[0;32m     54\u001b[0m     \u001b[1;32mif\u001b[0m \u001b[1;32mnot\u001b[0m \u001b[0misinstance\u001b[0m\u001b[1;33m(\u001b[0m\u001b[0mu\u001b[0m\u001b[1;33m,\u001b[0m \u001b[0municode_type\u001b[0m\u001b[1;33m)\u001b[0m\u001b[1;33m:\u001b[0m\u001b[1;33m\u001b[0m\u001b[0m\n\u001b[0;32m     55\u001b[0m         raise ValueError('Only unicode objects are escapable. ' +\n\u001b[1;32m---> 56\u001b[1;33m                          'Got %s of type %s.' % (u, type(u)))\n\u001b[0m\u001b[0;32m     57\u001b[0m     \u001b[1;31m# Letters, digits, and the characters '_.-' are already treated as safe\u001b[0m\u001b[1;33m\u001b[0m\u001b[1;33m\u001b[0m\u001b[0m\n\u001b[0;32m     58\u001b[0m     \u001b[1;31m# by urllib.quote(). We need to add '~' to fully support rfc5849.\u001b[0m\u001b[1;33m\u001b[0m\u001b[1;33m\u001b[0m\u001b[0m\n",
      "\u001b[1;31mValueError\u001b[0m: Only unicode objects are escapable. Got oauth_token=3162877560-bL9ILWTxtSFt1zqES5m8de8EXHDKpyvGwZi3xFY&oauth_token_secret=0XrxV9njXgyRBIhKgjxgj74gGZ4U7MIrNb2ejLCfKpmc9 of type <class 'oauth2.Token'>."
     ]
    }
   ],
   "source": [
    "def authenticate_and_search():\n",
    "    auth = OAuth1(consumer_key, consumer_secret, access_token, access_secret)\n",
    "    verification_url = 'https://api.twitter.com/1.1/account/verify_credentials.json'\n",
    "    requests.get(verification_url, auth=auth)\n",
    "\n",
    "    url = 'https://api.twitter.com/1.1/search/tweets.json'\n",
    "    results = requests.get(url, params=search_term, auth=auth)\n",
    "    return results.json()\n",
    "data = authenticate_and_search()"
   ]
  },
  {
   "cell_type": "code",
   "execution_count": 263,
   "metadata": {
    "collapsed": false
   },
   "outputs": [
    {
     "ename": "NameError",
     "evalue": "name 'sub_folder' is not defined",
     "output_type": "error",
     "traceback": [
      "\u001b[1;31m\u001b[0m",
      "\u001b[1;31mNameError\u001b[0mTraceback (most recent call last)",
      "\u001b[1;32m<ipython-input-263-2d31a529de96>\u001b[0m in \u001b[0;36m<module>\u001b[1;34m()\u001b[0m\n\u001b[0;32m      2\u001b[0m     \u001b[1;32mwith\u001b[0m \u001b[0mopen\u001b[0m\u001b[1;33m(\u001b[0m\u001b[0msub_folder\u001b[0m \u001b[1;33m+\u001b[0m \u001b[1;34m\"\\\\\"\u001b[0m \u001b[1;33m+\u001b[0m\u001b[1;34m'data.json'\u001b[0m\u001b[1;33m,\u001b[0m \u001b[1;34m'w'\u001b[0m\u001b[1;33m)\u001b[0m \u001b[1;32mas\u001b[0m \u001b[0moutfile\u001b[0m\u001b[1;33m:\u001b[0m\u001b[1;33m\u001b[0m\u001b[0m\n\u001b[0;32m      3\u001b[0m         \u001b[0mjson\u001b[0m\u001b[1;33m.\u001b[0m\u001b[0mdump\u001b[0m\u001b[1;33m(\u001b[0m\u001b[0mdata\u001b[0m\u001b[1;33m,\u001b[0m \u001b[0moutfile\u001b[0m\u001b[1;33m)\u001b[0m\u001b[1;33m\u001b[0m\u001b[0m\n\u001b[1;32m----> 4\u001b[1;33m \u001b[0mdump_data\u001b[0m\u001b[1;33m(\u001b[0m\u001b[1;33m)\u001b[0m\u001b[1;33m\u001b[0m\u001b[0m\n\u001b[0m",
      "\u001b[1;32m<ipython-input-263-2d31a529de96>\u001b[0m in \u001b[0;36mdump_data\u001b[1;34m()\u001b[0m\n\u001b[0;32m      1\u001b[0m \u001b[1;32mdef\u001b[0m \u001b[0mdump_data\u001b[0m\u001b[1;33m(\u001b[0m\u001b[1;33m)\u001b[0m\u001b[1;33m:\u001b[0m\u001b[1;33m\u001b[0m\u001b[0m\n\u001b[1;32m----> 2\u001b[1;33m     \u001b[1;32mwith\u001b[0m \u001b[0mopen\u001b[0m\u001b[1;33m(\u001b[0m\u001b[0msub_folder\u001b[0m \u001b[1;33m+\u001b[0m \u001b[1;34m\"\\\\\"\u001b[0m \u001b[1;33m+\u001b[0m\u001b[1;34m'data.json'\u001b[0m\u001b[1;33m,\u001b[0m \u001b[1;34m'w'\u001b[0m\u001b[1;33m)\u001b[0m \u001b[1;32mas\u001b[0m \u001b[0moutfile\u001b[0m\u001b[1;33m:\u001b[0m\u001b[1;33m\u001b[0m\u001b[0m\n\u001b[0m\u001b[0;32m      3\u001b[0m         \u001b[0mjson\u001b[0m\u001b[1;33m.\u001b[0m\u001b[0mdump\u001b[0m\u001b[1;33m(\u001b[0m\u001b[0mdata\u001b[0m\u001b[1;33m,\u001b[0m \u001b[0moutfile\u001b[0m\u001b[1;33m)\u001b[0m\u001b[1;33m\u001b[0m\u001b[0m\n\u001b[0;32m      4\u001b[0m \u001b[0mdump_data\u001b[0m\u001b[1;33m(\u001b[0m\u001b[1;33m)\u001b[0m\u001b[1;33m\u001b[0m\u001b[0m\n",
      "\u001b[1;31mNameError\u001b[0m: name 'sub_folder' is not defined"
     ]
    }
   ],
   "source": [
    "def dump_data():\n",
    "    with open(sub_folder + \"\\\\\" +'data.json', 'w') as outfile:\n",
    "        json.dump(data, outfile)\n",
    "dump_data()"
   ]
  },
  {
   "cell_type": "code",
   "execution_count": null,
   "metadata": {
    "collapsed": false
   },
   "outputs": [],
   "source": []
  },
  {
   "cell_type": "code",
   "execution_count": 1,
   "metadata": {
    "collapsed": true
   },
   "outputs": [],
   "source": [
    "def Analysis_One():\n",
    "    friends_sum = 0\n",
    "    count = 1\n",
    "    for i in range(int(count)):\n",
    "        jsonData = tweets[\"statuses\"][i][\"user\"]\n",
    "    # print(tweets[\"statuses\"][0][\"user\"].keys())\n",
    "    # for item in jsonData:\n",
    "        friends_count = jsonData[\"friends_count\"]\n",
    "        id = jsonData[\"id\"]\n",
    "        friends_sum += int(friends_count)\n",
    "        print(\"User id is: {}\".format(id), \"  User friends_count is: {}\".format(friends_count))\n",
    "    friends_avg = friends_sum/int(count)\n",
    "    print(\"Users' average friends count is: {}\".format(friends_avg))"
   ]
  },
  {
   "cell_type": "code",
   "execution_count": 154,
   "metadata": {
    "collapsed": true
   },
   "outputs": [],
   "source": [
    "def Analysis_Two():\n",
    "    dic = {'Foreign': '0', 'Alien': '0', 'Alabama': '0', 'Alaska': '0', 'American Samoa': '0', 'Arizona': '0',\n",
    "           'Arkansas': '0', 'California': '0', 'Colorado': '0', 'Connecticut': '0', 'Delaware': '0',\n",
    "           'Washington, D.C.': '0', 'Florida': '0', 'Georgia': '0', 'Guam': '0', 'Hawaii': '0', 'Idaho': '0',\n",
    "           'Illinois': '0', 'Indiana': '0', 'Kansas': '0', 'Iowa': '0', 'Kentucky': '0', 'Louisiana': '0', 'Maine': '0',\n",
    "           'Maryland': '0', 'Marshall Islands': '0', 'Massachusetts': '0', 'Michigan': '0', 'Micronesia': '0',\n",
    "           'Minnesota': '0', 'Mississippi': '0', 'Montana': '0', 'Nebraska': '0', 'Nevada': '0', 'New Hampshire': '0',\n",
    "           'New Jersey': '0', 'New Mexico': '0', 'New York': '0', 'North Carolina': '0', 'North Dakota': '0',\n",
    "           'Northern Marianas': '0', 'Ohio': '0', 'Oklahoma': '0', 'Oregon': '0', 'Palau': '0', 'Pennsylvania': '0',\n",
    "           'Puerto Rico': '0', 'Rhode Island': '0', 'Missouri': '0', 'South Carolina': '0', 'South Dakota': '0',\n",
    "           'Tennessee': '0', 'Texas': '0', 'Utah': '0', 'Vermont': '0', 'Virginia': '0', 'Virgin Islands': '0',\n",
    "           'Washington': '0', 'West Virginia': '0', 'Wisconsin': '0', 'Wyoming': '0'}\n",
    "    dic = dic.fromkeys(dic.keys(), 0)\n",
    "\n",
    "    for i in range(int(count) - 1):\n",
    "        jsonData = tweets[\"statuses\"][i][\"user\"]\n",
    "        user_location = jsonData[\"location\"]\n",
    "        id = jsonData[\"id\"]\n",
    "\n",
    "        url = \"http://api.geonames.org/searchJSON?formatted=true&q=\" + user_location + \"&maxRows=10&lang=en&username=limuzi0609&style=full\"\n",
    "        data = json.dumps({\"name\": \"test_repo\", \"description\": \"test\"})\n",
    "        r = requests.post(url, data)\n",
    "        print(user_location)\n",
    "        if r.json()[\"totalResultsCount\"] == 0:\n",
    "            dic['Alien'] += 1\n",
    "        elif r.json()[\"geonames\"][0][\"countryCode\"] == \"US\" and r.json()[\"geonames\"][0][\"adminName1\"] is not '':\n",
    "            state = r.json()[\"geonames\"][0][\"adminName1\"]\n",
    "            dic[state] += 1\n",
    "        else:\n",
    "            dic['Foreign'] += 1\n",
    "\n",
    "    dic = {k: v for (k, v) in dic.items() if v > 0}\n",
    "    print(dic.items())\n",
    "    # visualisation\n",
    "    wordlist=[]\n",
    "    for key,val in dic.items():\n",
    "        wordlist.append((key,val))\n",
    "    matplotlib.pyplot.figure(figsize=(9, 6))\n",
    "    wordlist.sort()\n",
    "    keylist=[key for key,val in wordlist]\n",
    "    vallist=[val for key,val in wordlist]\n",
    "    barwidth=0.3\n",
    "    xVal=np.arange(len(keylist))\n",
    "    pylab.xticks(xVal+barwidth/2.0,keylist,rotation=45)\n",
    "    pylab.bar(xVal,vallist,width=barwidth,color='lightskyblue',edgecolor = 'white')\n",
    "\n",
    "    pylab.title(u\"Bar Chart of Users' States\" )\n",
    "    pylab.show()"
   ]
  },
  {
   "cell_type": "code",
   "execution_count": 172,
   "metadata": {
    "collapsed": true
   },
   "outputs": [],
   "source": [
    "def Analysis_Three():\n",
    "    matplotlib.pyplot.figure(figsize=(9,6))\n",
    "\n",
    "    followers_num = []\n",
    "    retweet_num = []\n",
    "\n",
    "    for i in range(int(count)):\n",
    "        followers_count = tweets[\"statuses\"][i][\"user\"][\"followers_count\"]\n",
    "        retweet_count = tweets[\"statuses\"][i][\"retweet_count\"]\n",
    "        followers_num.append(followers_count)\n",
    "        retweet_num.append(retweet_count)\n",
    "        print(\"Tweets retweet number is: {}\".format(retweet_count), \" User's followers number is: {}\".format(followers_count))\n",
    "\n",
    "    T = np.arctan2(followers_num,retweet_num)\n",
    "    matplotlib.pyplot.scatter(followers_num,retweet_num,c=T,s=25,alpha=0.4,marker='o')\n",
    "    matplotlib.pyplot.xlabel(\"User's follower number\")\n",
    "    matplotlib.pyplot.ylabel(\"User's this tweet's retweet number\")\n",
    "    matplotlib.pyplot.show()"
   ]
  },
  {
   "cell_type": "code",
   "execution_count": 192,
   "metadata": {
    "collapsed": true
   },
   "outputs": [],
   "source": [
    "def Analysis_Four():\n",
    "    user_mentioned = 0\n",
    "    for i in range(int(count)):\n",
    "        mentioned_count = len(tweets[\"statuses\"][i][\"entities\"][\"user_mentions\"])\n",
    "        id = tweets[\"statuses\"][i][\"user\"][\"id\"]\n",
    "        user_mentioned += mentioned_count\n",
    "        print(\"User id is: {}\".format(id), \"  User mentioned people number is: {}\".format(mentioned_count))\n",
    "    mentioned_avg = user_mentioned/int(count)\n",
    "    print(\"Users' average friends count is: {}\".format(mentioned_avg))"
   ]
  },
  {
   "cell_type": "code",
   "execution_count": 236,
   "metadata": {
    "collapsed": false
   },
   "outputs": [],
   "source": [
    "def Analysis_Five():\n",
    "    term_1 = input(\"What do you want to search?\")\n",
    "    if choose_time == 1:\n",
    "        # global search_1\n",
    "        integra_search = \"%20since%3A\" + date_0 + '&count=' + count\n",
    "        search_2 = \"https://api.twitter.com/1.1/search/tweets.json?q=\" + term_1 + integra_search\n",
    "    if choose_time == 2:\n",
    "        # global search_1\n",
    "        integra_search = \"%20until%3A\" + date_0 + '&count=' + count\n",
    "        search_2 = \"https://api.twitter.com/1.1/search/tweets.json?q=\" + term_1 + integra_search\n",
    "    else:\n",
    "        search_2 = \"https://api.twitter.com/1.1/search/tweets.json?q=\" + term_1 + \"%20until%3A\" + date_0 + '&count=' + count\n",
    "        print(\"Your input is wrong, please input again\")\n",
    "\n",
    "    response_1, data_1 = client.request(search_2)\n",
    "\n",
    "    str_response_1 = data_1.decode('utf-8')\n",
    "    tweets_1 = json.loads(str_response_1)\n",
    "\n",
    "    dic = {'Foreign': '0', 'Alien': '0', 'Alabama': '0', 'Alaska': '0', 'American Samoa': '0', 'Arizona': '0',\n",
    "           'Arkansas': '0', 'California': '0', 'Colorado': '0', 'Connecticut': '0', 'Delaware': '0',\n",
    "           'Washington, D.C.': '0', 'Florida': '0', 'Georgia': '0', 'Guam': '0', 'Hawaii': '0', 'Idaho': '0',\n",
    "           'Illinois': '0', 'Indiana': '0', 'Kansas': '0', 'Iowa': '0', 'Kentucky': '0', 'Louisiana': '0', 'Maine': '0',\n",
    "           'Maryland': '0', 'Marshall Islands': '0', 'Massachusetts': '0', 'Michigan': '0', 'Micronesia': '0',\n",
    "           'Minnesota': '0', 'Mississippi': '0', 'Montana': '0', 'Nebraska': '0', 'Nevada': '0', 'New Hampshire': '0',\n",
    "           'New Jersey': '0', 'New Mexico': '0', 'New York': '0', 'North Carolina': '0', 'North Dakota': '0',\n",
    "           'Northern Marianas': '0', 'Ohio': '0', 'Oklahoma': '0', 'Oregon': '0', 'Palau': '0', 'Pennsylvania': '0',\n",
    "           'Puerto Rico': '0', 'Rhode Island': '0', 'Missouri': '0', 'South Carolina': '0', 'South Dakota': '0',\n",
    "           'Tennessee': '0', 'Texas': '0', 'Utah': '0', 'Vermont': '0', 'Virginia': '0', 'Virgin Islands': '0',\n",
    "           'Washington': '0', 'West Virginia': '0', 'Wisconsin': '0', 'Wyoming': '0'}\n",
    "    dic_1 = {'Foreign': '0', 'Alien': '0', 'Alabama': '0', 'Alaska': '0', 'American Samoa': '0', 'Arizona': '0',\n",
    "           'Arkansas': '0', 'California': '0', 'Colorado': '0', 'Connecticut': '0', 'Delaware': '0',\n",
    "           'Washington, D.C.': '0', 'Florida': '0', 'Georgia': '0', 'Guam': '0', 'Hawaii': '0', 'Idaho': '0',\n",
    "           'Illinois': '0', 'Indiana': '0', 'Kansas': '0', 'Iowa': '0', 'Kentucky': '0', 'Louisiana': '0', 'Maine': '0',\n",
    "           'Maryland': '0', 'Marshall Islands': '0', 'Massachusetts': '0', 'Michigan': '0', 'Micronesia': '0',\n",
    "           'Minnesota': '0', 'Mississippi': '0', 'Montana': '0', 'Nebraska': '0', 'Nevada': '0', 'New Hampshire': '0',\n",
    "           'New Jersey': '0', 'New Mexico': '0', 'New York': '0', 'North Carolina': '0', 'North Dakota': '0',\n",
    "           'Northern Marianas': '0', 'Ohio': '0', 'Oklahoma': '0', 'Oregon': '0', 'Palau': '0', 'Pennsylvania': '0',\n",
    "           'Puerto Rico': '0', 'Rhode Island': '0', 'Missouri': '0', 'South Carolina': '0', 'South Dakota': '0',\n",
    "           'Tennessee': '0', 'Texas': '0', 'Utah': '0', 'Vermont': '0', 'Virginia': '0', 'Virgin Islands': '0',\n",
    "           'Washington': '0', 'West Virginia': '0', 'Wisconsin': '0', 'Wyoming': '0'}\n",
    "    dic = dic.fromkeys(dic.keys(), 0)\n",
    "    dic_1 = dic_1.fromkeys(dic_1.keys(), 0)\n",
    "\n",
    "    for i in range(int(count) - 1):\n",
    "        jsonData = tweets[\"statuses\"][i][\"user\"]\n",
    "        jsonData_1 = tweets_1[\"statuses\"][i][\"user\"]\n",
    "        user_location = jsonData[\"location\"]\n",
    "        user_location_1 = jsonData_1[\"location\"]\n",
    "        id = jsonData[\"id\"]\n",
    "        id_1 = jsonData_1[\"id\"]\n",
    "\n",
    "        url = \"http://api.geonames.org/searchJSON?formatted=true&q=\" + user_location + \"&maxRows=10&lang=en&username=limuzi0609&style=full\"\n",
    "        url_1 = \"http://api.geonames.org/searchJSON?formatted=true&q=\" + user_location_1 + \"&maxRows=10&lang=en&username=limuzi0609&style=full\"\n",
    "        data = json.dumps({\"name\": \"test_repo\", \"description\": \"test\"})\n",
    "        data_1 = json.dumps({\"name\": \"test_repo\", \"description\": \"test\"})\n",
    "        r = requests.post(url, data)\n",
    "        r_1 = requests.post(url_1, data_1)\n",
    "        print(user_location)\n",
    "        print(user_location_1)\n",
    "        if r.json()[\"totalResultsCount\"] == 0:\n",
    "            dic['Alien'] += 1\n",
    "        elif r.json()[\"geonames\"][0][\"countryCode\"] == \"US\" and r.json()[\"geonames\"][0][\"adminName1\"] is not '':\n",
    "            state = r.json()[\"geonames\"][0][\"adminName1\"]\n",
    "            dic[state] += 1\n",
    "        else:\n",
    "            dic['Foreign'] += 1\n",
    "\n",
    "        if r_1.json()[\"totalResultsCount\"] == 0:\n",
    "            dic_1['Alien'] += 1\n",
    "        elif r_1.json()[\"geonames\"][0][\"countryCode\"] == \"US\" and r_1.json()[\"geonames\"][0][\"adminName1\"] is not '':\n",
    "            state_1 = r_1.json()[\"geonames\"][0][\"adminName1\"]\n",
    "            dic_1[state_1] += 1\n",
    "        else:\n",
    "            dic_1['Foreign'] += 1\n",
    "\n",
    "    #dic = {k: v for (k, v) in dic.items() if v > 0}\n",
    "    print(dic.items())\n",
    "    #dic_1 = {k: v for (k, v) in dic_1.items() if v > 0}\n",
    "    print(dic_1.items())\n",
    "    # visualisation\n",
    "    wordlist = []\n",
    "    wordlist_1 = []\n",
    "    for key, val in dic.items():\n",
    "        wordlist.append((key, val))\n",
    "    matplotlib.pyplot.figure(figsize=(9, 6))\n",
    "    wordlist.sort()\n",
    "    keylist = [key for key, val in wordlist]\n",
    "    vallist = [val for key, val in wordlist]\n",
    "\n",
    "    for key_1, val_1 in dic_1.items():\n",
    "        wordlist_1.append((key_1, val_1))\n",
    "    wordlist_1.sort()\n",
    "    keylist_1 = [key_1 for key_1, val_1 in wordlist_1]\n",
    "    vallist_1 = [val_1 for key_1, val_1 in wordlist_1]\n",
    "\n",
    "    barwidth = 0.35\n",
    "    xVal = np.arange(len(keylist))+1\n",
    "    pylab.xticks((xVal*2 + barwidth) / 2.0, keylist, rotation=45)\n",
    "    pylab.bar(xVal, vallist, width=barwidth, color='lightskyblue', edgecolor='white')\n",
    "    pylab.bar(xVal+0.35, vallist_1, width=barwidth, color='yellowgreen', edgecolor='white')\n",
    "\n",
    "    pylab.title(u\"Lightskyblue for Trump, Yellowgreen for Clinton\")\n",
    "    pylab.show()\n",
    "\n"
   ]
  },
  {
   "cell_type": "code",
   "execution_count": 2,
   "metadata": {
    "collapsed": false
   },
   "outputs": [
    {
     "name": "stdout",
     "output_type": "stream",
     "text": [
      "NumberFrom 1-5:1\n",
      "Analysis One\n"
     ]
    },
    {
     "ename": "NameError",
     "evalue": "name 'tweets' is not defined",
     "output_type": "error",
     "traceback": [
      "\u001b[1;31m\u001b[0m",
      "\u001b[1;31mNameError\u001b[0mTraceback (most recent call last)",
      "\u001b[1;32m<ipython-input-2-eb4180609e51>\u001b[0m in \u001b[0;36m<module>\u001b[1;34m()\u001b[0m\n\u001b[0;32m      2\u001b[0m \u001b[1;32mif\u001b[0m \u001b[0mnum\u001b[0m \u001b[1;33m==\u001b[0m \u001b[1;34m\"1\"\u001b[0m\u001b[1;33m:\u001b[0m\u001b[1;33m\u001b[0m\u001b[0m\n\u001b[0;32m      3\u001b[0m     \u001b[0mprint\u001b[0m\u001b[1;33m(\u001b[0m\u001b[1;34m\"Analysis One\"\u001b[0m\u001b[1;33m)\u001b[0m\u001b[1;33m\u001b[0m\u001b[0m\n\u001b[1;32m----> 4\u001b[1;33m     \u001b[0mAnalysis_One\u001b[0m\u001b[1;33m(\u001b[0m\u001b[1;33m)\u001b[0m\u001b[1;33m\u001b[0m\u001b[0m\n\u001b[0m\u001b[0;32m      5\u001b[0m \u001b[1;32mif\u001b[0m \u001b[0mnum\u001b[0m \u001b[1;33m==\u001b[0m \u001b[1;36m2\u001b[0m\u001b[1;33m:\u001b[0m\u001b[1;33m\u001b[0m\u001b[0m\n\u001b[0;32m      6\u001b[0m     \u001b[0mAnalysis_Two\u001b[0m\u001b[1;33m(\u001b[0m\u001b[1;33m)\u001b[0m\u001b[1;33m\u001b[0m\u001b[0m\n",
      "\u001b[1;32m<ipython-input-1-fedeed4eaf4d>\u001b[0m in \u001b[0;36mAnalysis_One\u001b[1;34m()\u001b[0m\n\u001b[0;32m      3\u001b[0m     \u001b[0mcount\u001b[0m \u001b[1;33m=\u001b[0m \u001b[1;36m1\u001b[0m\u001b[1;33m\u001b[0m\u001b[0m\n\u001b[0;32m      4\u001b[0m     \u001b[1;32mfor\u001b[0m \u001b[0mi\u001b[0m \u001b[1;32min\u001b[0m \u001b[0mrange\u001b[0m\u001b[1;33m(\u001b[0m\u001b[0mint\u001b[0m\u001b[1;33m(\u001b[0m\u001b[0mcount\u001b[0m\u001b[1;33m)\u001b[0m\u001b[1;33m)\u001b[0m\u001b[1;33m:\u001b[0m\u001b[1;33m\u001b[0m\u001b[0m\n\u001b[1;32m----> 5\u001b[1;33m         \u001b[0mjsonData\u001b[0m \u001b[1;33m=\u001b[0m \u001b[0mtweets\u001b[0m\u001b[1;33m[\u001b[0m\u001b[1;34m\"statuses\"\u001b[0m\u001b[1;33m]\u001b[0m\u001b[1;33m[\u001b[0m\u001b[0mi\u001b[0m\u001b[1;33m]\u001b[0m\u001b[1;33m[\u001b[0m\u001b[1;34m\"user\"\u001b[0m\u001b[1;33m]\u001b[0m\u001b[1;33m\u001b[0m\u001b[0m\n\u001b[0m\u001b[0;32m      6\u001b[0m     \u001b[1;31m# print(tweets[\"statuses\"][0][\"user\"].keys())\u001b[0m\u001b[1;33m\u001b[0m\u001b[1;33m\u001b[0m\u001b[0m\n\u001b[0;32m      7\u001b[0m     \u001b[1;31m# for item in jsonData:\u001b[0m\u001b[1;33m\u001b[0m\u001b[1;33m\u001b[0m\u001b[0m\n",
      "\u001b[1;31mNameError\u001b[0m: name 'tweets' is not defined"
     ]
    }
   ],
   "source": [
    "num = input(\"NumberFrom 1-5:\")\n",
    "if num == \"1\":\n",
    "    print(\"Analysis One\")\n",
    "    Analysis_One()\n",
    "if num == 2:\n",
    "    Analysis_Two()\n",
    "if num == 3:\n",
    "    Analysis_Three()\n",
    "if num == 4:\n",
    "    Analysis_four()\n",
    "if num == 5:\n",
    "    Analysis_Five()"
   ]
  },
  {
   "cell_type": "code",
   "execution_count": null,
   "metadata": {
    "collapsed": true
   },
   "outputs": [],
   "source": []
  },
  {
   "cell_type": "code",
   "execution_count": null,
   "metadata": {
    "collapsed": true
   },
   "outputs": [],
   "source": []
  },
  {
   "cell_type": "code",
   "execution_count": null,
   "metadata": {
    "collapsed": true
   },
   "outputs": [],
   "source": []
  },
  {
   "cell_type": "code",
   "execution_count": null,
   "metadata": {
    "collapsed": true
   },
   "outputs": [],
   "source": []
  }
 ],
 "metadata": {
  "anaconda-cloud": {},
  "kernelspec": {
   "display_name": "Python [Root]",
   "language": "python",
   "name": "Python [Root]"
  },
  "language_info": {
   "codemirror_mode": {
    "name": "ipython",
    "version": 3
   },
   "file_extension": ".py",
   "mimetype": "text/x-python",
   "name": "python",
   "nbconvert_exporter": "python",
   "pygments_lexer": "ipython3",
   "version": "3.5.2"
  }
 },
 "nbformat": 4,
 "nbformat_minor": 0
}
