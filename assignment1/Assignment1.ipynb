{
 "cells": [
  {
   "cell_type": "markdown",
   "metadata": {},
   "source": [
    "# Question 1 "
   ]
  },
  {
   "cell_type": "code",
   "execution_count": 12,
   "metadata": {
    "collapsed": false
   },
   "outputs": [
    {
     "name": "stdout",
     "output_type": "stream",
     "text": [
      "[21, 42, 63, 84, 105, 126, 147, 168, 189, 210, 231, 252, 273, 294, 315, 336, 357, 378, 399, 420, 441, 462, 483]\n"
     ]
    }
   ],
   "source": [
    "L =[]\n",
    "for num in range(1,501):\n",
    "    if num % 3 == 0:\n",
    "        if num % 7 ==0:\n",
    "            L = L + [num]\n",
    "print(L)"
   ]
  },
  {
   "cell_type": "code",
   "execution_count": 38,
   "metadata": {
    "collapsed": false
   },
   "outputs": [
    {
     "name": "stdout",
     "output_type": "stream",
     "text": [
      "The mean is 252.0\n",
      "[126, 252, 336]\n"
     ]
    }
   ],
   "source": [
    "i = len(L)\n",
    "L1 = []\n",
    "print(\"The mean is {}\".format(sum(L)/len(L)))\n",
    "L1.append(L[i//4])\n",
    "L1.append(L[i//2])\n",
    "L1.append(L[i//4*3])\n",
    "print(L1)"
   ]
  },
  {
   "cell_type": "markdown",
   "metadata": {},
   "source": [
    "# Question 2"
   ]
  },
  {
   "cell_type": "code",
   "execution_count": 3,
   "metadata": {
    "collapsed": false
   },
   "outputs": [
    {
     "name": "stdout",
     "output_type": "stream",
     "text": [
      "309\n"
     ]
    }
   ],
   "source": [
    "lines = []\n",
    "with open('ques2.txt','rb') as f:\n",
    "    lines = f.readlines()\n",
    "input_line = lines[0].decode('utf-8')\n",
    "stringnum = len(input_line.split())\n",
    "print(stringnum)"
   ]
  },
  {
   "cell_type": "code",
   "execution_count": 37,
   "metadata": {
    "collapsed": false,
    "scrolled": true
   },
   "outputs": [
    {
     "name": "stdout",
     "output_type": "stream",
     "text": [
      "5.618122977346278\n",
      "5\n",
      "2\n"
     ]
    }
   ],
   "source": [
    "from statistics import mode\n",
    "words = input_line.split()\n",
    "average = sum(len(word) for word in words)/len(words)\n",
    "print(average)\n",
    "charnum = list()\n",
    "for word in words:\n",
    "    charnum.append(len(word))\n",
    "charnum.sort()\n",
    "length = len(charnum) // 2 + 1\n",
    "print(charnum[length])\n",
    "modenum = mode(charnum)\n",
    "print(modenum)"
   ]
  },
  {
   "cell_type": "code",
   "execution_count": 3,
   "metadata": {
    "collapsed": false
   },
   "outputs": [
    {
     "data": {
      "text/plain": [
       "'utf-8'"
      ]
     },
     "execution_count": 3,
     "metadata": {},
     "output_type": "execute_result"
    }
   ],
   "source": [
    "import sys\n",
    "sys.getdefaultencoding()"
   ]
  },
  {
   "cell_type": "markdown",
   "metadata": {},
   "source": [
    "# Question 3"
   ]
  },
  {
   "cell_type": "code",
   "execution_count": 79,
   "metadata": {
    "collapsed": false
   },
   "outputs": [
    {
     "name": "stdout",
     "output_type": "stream",
     "text": [
      "877\n"
     ]
    }
   ],
   "source": [
    "import os\n",
    "import json\n",
    "\n",
    "path = 'jsons'\n",
    "n = 0\n",
    "for filename in os.listdir(path):\n",
    "    if(filename[-5:] == \".json\"):\n",
    "        with open(\"jsons/\"+filename) as f:\n",
    "            if(json.load(f).get('name') == 'User Not Found'):\n",
    "                n += 1\n",
    "print(n)"
   ]
  },
  {
   "cell_type": "code",
   "execution_count": 39,
   "metadata": {
    "collapsed": false
   },
   "outputs": [
    {
     "name": "stdout",
     "output_type": "stream",
     "text": [
      "('w8wZ4qMpPSP47bK4VDxEGQpu0BhZqI6F', 1)\n",
      "('AHAT7rx61BMrG92', 1)\n",
      "('VZMHjBW11Af3fc5', 1)\n",
      "('qrQOHyoQ1zFyYL5', 0)\n",
      "('ZUUy97hQ1Bwtlc5', 0)\n"
     ]
    }
   ],
   "source": [
    "import os\n",
    "import json\n",
    "import random\n",
    "path = 'jsons'\n",
    "num = 0\n",
    "D = dict()\n",
    "for filename in os.listdir(path):\n",
    "    if(filename[-5:] == \".json\"):\n",
    "        with open(\"jsons/\"+filename) as f:\n",
    "            name = filename[:-5]\n",
    "            num1 = 0 \n",
    "            if(json.load(f).get('name') == 'User Not Found'): \n",
    "                num1 = num1 + 1\n",
    "            D[name] = num1\n",
    "for i in range(5):\n",
    "    key = random.choice(list(D.keys()))\n",
    "    value = D.get(key)\n",
    "    print((key,value))"
   ]
  },
  {
   "cell_type": "markdown",
   "metadata": {
    "collapsed": true
   },
   "source": [
    "# Question 4"
   ]
  },
  {
   "cell_type": "code",
   "execution_count": 48,
   "metadata": {
    "collapsed": false
   },
   "outputs": [
    {
     "name": "stdout",
     "output_type": "stream",
     "text": [
      "1500\n",
      "{'WrT0B30t1BqF6r5': {'third': 0, 'first': 146}}\n",
      "{'rrePmELw1BbBVp5': {'third': 0, 'first': 0}}\n",
      "{'Bk4iIqky1Bl3SL2': {'third': 172, 'first': 145}}\n",
      "{'RIncB32I1BMoqi5': {'third': 0, 'first': 5}}\n",
      "{'RCrCAOZv1B7JMI5': {'third': 321, 'first': 270}}\n",
      "{'rvBGDj3p1BMrvI2': {'third': 0, 'first': 0}}\n",
      "{'VXHWYz8a1AB7WM2': {'third': 0, 'first': 112}}\n",
      "{'VzPAuS1r1BvPM15': {'third': 0, 'first': 0}}\n",
      "{'ZocSjrFj1BMbzY2': {'third': 0, 'first': 0}}\n",
      "{'fyKxQ5d21BM98t2': {'third': 0, 'first': 0}}\n"
     ]
    }
   ],
   "source": [
    "import os\n",
    "import json\n",
    "import random\n",
    "path = os.listdir(\"jsons\")\n",
    "D1 = dict()\n",
    "for filename in path:\n",
    "    userID = filename[:-5]\n",
    "    if(filename[-5:] == \".json\"):\n",
    "        with open(\"jsons/\" + filename) as f:\n",
    "            i = 0\n",
    "            j = 0\n",
    "            D = json.load(f)\n",
    "            if(D.get('name') == 'User Not Found'): \n",
    "                D1[userID]  = {'first' : 0, 'third' :0}\n",
    "            else:\n",
    "                stringlist = D['retargetingSegments']\n",
    "                for elt in stringlist:\n",
    "                    if(elt['segmentUid'].startswith('0')):\n",
    "                        a += 1\n",
    "                    elif(elt['segmentUid'].startswith('1')):\n",
    "                        b += 1\n",
    "                D1[userID] = {'first': a, 'third': b}\n",
    "print(len(D1))\n",
    "#print(json.dumps(result,sort_keys=True, indent=4))\n",
    "for i in range(10):\n",
    "    key = random.choice(list(result.keys()))\n",
    "    value = result.get(key)\n",
    "    print({key:value})"
   ]
  },
  {
   "cell_type": "code",
   "execution_count": null,
   "metadata": {
    "collapsed": true
   },
   "outputs": [],
   "source": []
  }
 ],
 "metadata": {
  "anaconda-cloud": {},
  "kernelspec": {
   "display_name": "Python [Root]",
   "language": "python",
   "name": "Python [Root]"
  },
  "language_info": {
   "codemirror_mode": {
    "name": "ipython",
    "version": 3
   },
   "file_extension": ".py",
   "mimetype": "text/x-python",
   "name": "python",
   "nbconvert_exporter": "python",
   "pygments_lexer": "ipython3",
   "version": "3.5.2"
  }
 },
 "nbformat": 4,
 "nbformat_minor": 0
}
